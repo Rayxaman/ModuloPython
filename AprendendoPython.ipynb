{
  "nbformat": 4,
  "nbformat_minor": 0,
  "metadata": {
    "colab": {
      "name": "AprendendoPython.ipynb",
      "provenance": [],
      "authorship_tag": "ABX9TyNMYzkyL3nHlyNh7nwJm4t1"
    },
    "kernelspec": {
      "name": "python3",
      "display_name": "Python 3"
    },
    "language_info": {
      "name": "python"
    }
  },
  "cells": [
    {
      "cell_type": "markdown",
      "metadata": {
        "id": "kuxWONkid1b2"
      },
      "source": [
        "Módulo 3 (Python)\n",
        "\n",
        "Bootcamp IGTI - Desenvolvedor(a) de Software Iniciante."
      ]
    },
    {
      "cell_type": "code",
      "metadata": {
        "id": "T3Zq1wGteK5Z",
        "colab": {
          "base_uri": "https://localhost:8080/"
        },
        "outputId": "2c4d1a21-80ec-46ef-bfb8-e9abc4927327"
      },
      "source": [
        "print('Olá Mundo!')"
      ],
      "execution_count": null,
      "outputs": [
        {
          "output_type": "stream",
          "name": "stdout",
          "text": [
            "Olá Mundo!\n"
          ]
        }
      ]
    },
    {
      "cell_type": "markdown",
      "metadata": {
        "id": "ckGWPk9njF46"
      },
      "source": [
        "# Primeiros Passos"
      ]
    },
    {
      "cell_type": "code",
      "metadata": {
        "colab": {
          "base_uri": "https://localhost:8080/"
        },
        "id": "feOUaDZPfppB",
        "outputId": "d15eb3f3-067f-42bf-d89f-e031f0b29ae8"
      },
      "source": [
        "5+5"
      ],
      "execution_count": null,
      "outputs": [
        {
          "output_type": "execute_result",
          "data": {
            "text/plain": [
              "10"
            ]
          },
          "metadata": {},
          "execution_count": 5
        }
      ]
    },
    {
      "cell_type": "code",
      "metadata": {
        "colab": {
          "base_uri": "https://localhost:8080/"
        },
        "id": "iu7IQaJAfjlf",
        "outputId": "ad50d5da-3fc0-47d1-953a-a64853261ee7"
      },
      "source": [
        "10-2"
      ],
      "execution_count": null,
      "outputs": [
        {
          "output_type": "execute_result",
          "data": {
            "text/plain": [
              "8"
            ]
          },
          "metadata": {},
          "execution_count": 6
        }
      ]
    },
    {
      "cell_type": "code",
      "metadata": {
        "colab": {
          "base_uri": "https://localhost:8080/"
        },
        "id": "K2OgNjqLf8MI",
        "outputId": "08e97471-81dd-42a6-c63f-0b43638b614f"
      },
      "source": [
        "50/2"
      ],
      "execution_count": null,
      "outputs": [
        {
          "output_type": "execute_result",
          "data": {
            "text/plain": [
              "25.0"
            ]
          },
          "metadata": {},
          "execution_count": 7
        }
      ]
    },
    {
      "cell_type": "code",
      "metadata": {
        "colab": {
          "base_uri": "https://localhost:8080/"
        },
        "id": "TJOiSqwuf-rs",
        "outputId": "5c4a9dda-a5af-4dfc-8c8d-48aeecc61508"
      },
      "source": [
        "print(5+5)"
      ],
      "execution_count": null,
      "outputs": [
        {
          "output_type": "stream",
          "name": "stdout",
          "text": [
            "10\n"
          ]
        }
      ]
    },
    {
      "cell_type": "code",
      "metadata": {
        "id": "9wnUrTUPgR6y"
      },
      "source": [
        "a = 5\n",
        "print(a)"
      ],
      "execution_count": null,
      "outputs": []
    },
    {
      "cell_type": "code",
      "metadata": {
        "id": "wj4xA21Eg2ZA"
      },
      "source": [
        "b = 10"
      ],
      "execution_count": null,
      "outputs": []
    },
    {
      "cell_type": "code",
      "metadata": {
        "colab": {
          "base_uri": "https://localhost:8080/"
        },
        "id": "ESV_QpHag5u-",
        "outputId": "4ad6dff4-738b-4b0a-cc5e-9b775217b3f1"
      },
      "source": [
        "a + b"
      ],
      "execution_count": null,
      "outputs": [
        {
          "output_type": "execute_result",
          "data": {
            "text/plain": [
              "15"
            ]
          },
          "metadata": {},
          "execution_count": 14
        }
      ]
    },
    {
      "cell_type": "code",
      "metadata": {
        "colab": {
          "base_uri": "https://localhost:8080/"
        },
        "id": "0Tg2009Nhi6s",
        "outputId": "c8e631d5-211b-48b5-d47e-8d45253c64b8"
      },
      "source": [
        "a * b"
      ],
      "execution_count": null,
      "outputs": [
        {
          "output_type": "execute_result",
          "data": {
            "text/plain": [
              "50"
            ]
          },
          "metadata": {},
          "execution_count": 15
        }
      ]
    },
    {
      "cell_type": "code",
      "metadata": {
        "id": "-leEwngxhnmb"
      },
      "source": [
        "y = 'ok'\n",
        "print(y)"
      ],
      "execution_count": null,
      "outputs": []
    },
    {
      "cell_type": "code",
      "metadata": {
        "colab": {
          "base_uri": "https://localhost:8080/"
        },
        "id": "T5kLFI70mh8s",
        "outputId": "087b4b78-449e-4c4b-bfce-181ffa327b1e"
      },
      "source": [
        "soma = a + b\n",
        "print (soma) "
      ],
      "execution_count": null,
      "outputs": [
        {
          "output_type": "stream",
          "name": "stdout",
          "text": [
            "15\n"
          ]
        }
      ]
    },
    {
      "cell_type": "markdown",
      "metadata": {
        "id": "mQcah7HuiUQ2"
      },
      "source": [
        "Atividade - ver o que acontece:"
      ]
    },
    {
      "cell_type": "code",
      "metadata": {
        "colab": {
          "base_uri": "https://localhost:8080/"
        },
        "id": "iXA233o_iRcv",
        "outputId": "88502211-a032-4f0d-81a9-da15f983efec"
      },
      "source": [
        "z = '10' + '50'   #armazena o dado como um texto\n",
        "print(z)          #o retorno será 1050"
      ],
      "execution_count": null,
      "outputs": [
        {
          "output_type": "stream",
          "name": "stdout",
          "text": [
            "1050\n"
          ]
        }
      ]
    },
    {
      "cell_type": "code",
      "metadata": {
        "colab": {
          "base_uri": "https://localhost:8080/"
        },
        "id": "xwAts_fEioTB",
        "outputId": "4b1e56f0-d89f-455e-e655-4292f1b4077f"
      },
      "source": [
        "10 +++++ 50   #mais de um sinal de adição funciona da mesma maneira"
      ],
      "execution_count": null,
      "outputs": [
        {
          "output_type": "execute_result",
          "data": {
            "text/plain": [
              "60"
            ]
          },
          "metadata": {},
          "execution_count": 22
        }
      ]
    },
    {
      "cell_type": "code",
      "metadata": {
        "colab": {
          "base_uri": "https://localhost:8080/"
        },
        "id": "QbEgRpEeiyHG",
        "outputId": "4effad84-2973-4028-ffb7-1b859a281cb2"
      },
      "source": [
        "10 ** 2   #dois sinais de multiplicacçao transforma a conta em potenciação"
      ],
      "execution_count": null,
      "outputs": [
        {
          "output_type": "execute_result",
          "data": {
            "text/plain": [
              "100"
            ]
          },
          "metadata": {},
          "execution_count": 27
        }
      ]
    },
    {
      "cell_type": "code",
      "metadata": {
        "colab": {
          "base_uri": "https://localhost:8080/",
          "height": 129
        },
        "id": "KOmqh2Y2jE3j",
        "outputId": "4e347811-b65a-48f5-e08b-15c1d66ef8af"
      },
      "source": [
        "10 ********** 10  #não funciona, por erro de syntax"
      ],
      "execution_count": null,
      "outputs": [
        {
          "output_type": "error",
          "ename": "SyntaxError",
          "evalue": "ignored",
          "traceback": [
            "\u001b[0;36m  File \u001b[0;32m\"<ipython-input-25-492493b1c4c9>\"\u001b[0;36m, line \u001b[0;32m1\u001b[0m\n\u001b[0;31m    10 ********** 10\u001b[0m\n\u001b[0m          ^\u001b[0m\n\u001b[0;31mSyntaxError\u001b[0m\u001b[0;31m:\u001b[0m invalid syntax\n"
          ]
        }
      ]
    },
    {
      "cell_type": "markdown",
      "metadata": {
        "id": "XuqBd5WOSaVm"
      },
      "source": [
        "# Trabalhando com String"
      ]
    },
    {
      "cell_type": "code",
      "metadata": {
        "colab": {
          "base_uri": "https://localhost:8080/"
        },
        "id": "wSRYWnYGSqM7",
        "outputId": "fb5500eb-9d0b-4172-bd3b-367232528438"
      },
      "source": [
        "rua = 'Rua do Catete, '\n",
        "numero = '153, '\n",
        "bairro = 'Catete, '\n",
        "cidade = 'Rio de Janeiro, '\n",
        "estado = 'RJ, '\n",
        "cep = '22220-000'\n",
        "print(rua)"
      ],
      "execution_count": null,
      "outputs": [
        {
          "output_type": "stream",
          "name": "stdout",
          "text": [
            "Rua do Catete, \n"
          ]
        }
      ]
    },
    {
      "cell_type": "code",
      "metadata": {
        "colab": {
          "base_uri": "https://localhost:8080/"
        },
        "id": "jdhkafufXfHb",
        "outputId": "453ea8ea-9243-4f9a-fbea-7dc0c5bfe9ef"
      },
      "source": [
        "#concatenando a String\n",
        "endereco = rua + numero + bairro + cidade + estado + cep\n",
        "print(endereco)"
      ],
      "execution_count": null,
      "outputs": [
        {
          "output_type": "stream",
          "name": "stdout",
          "text": [
            "Rua do Catete, 153, Catete, Rio de Janeiro, RJ, 22220-000\n"
          ]
        }
      ]
    },
    {
      "cell_type": "code",
      "metadata": {
        "colab": {
          "base_uri": "https://localhost:8080/"
        },
        "id": "aJG0LlceXh3c",
        "outputId": "2f1b5e7a-416f-4057-90e9-71e7244e42bc"
      },
      "source": [
        "#transformando as letras em maiúsculas\n",
        "endereco_maiuscula = endereco.upper()\n",
        "print(endereco_maiuscula)"
      ],
      "execution_count": null,
      "outputs": [
        {
          "output_type": "stream",
          "name": "stdout",
          "text": [
            "RUA DO CATETE, 153, CATETE, RIO DE JANEIRO, RJ, 22220-000\n"
          ]
        }
      ]
    },
    {
      "cell_type": "code",
      "metadata": {
        "colab": {
          "base_uri": "https://localhost:8080/"
        },
        "id": "DAm7EbITXj75",
        "outputId": "c0f9f5b4-b0c2-4c18-8d7a-2be654dc11a9"
      },
      "source": [
        "#transformando as letras em minúsculas\n",
        "enderco_minuscula = endereco.lower()\n",
        "print(enderco_minuscula)"
      ],
      "execution_count": null,
      "outputs": [
        {
          "output_type": "stream",
          "name": "stdout",
          "text": [
            "rua do catete, 153, catete, rio de janeiro, rj, 22220-000\n"
          ]
        }
      ]
    },
    {
      "cell_type": "markdown",
      "metadata": {
        "id": "D8fiGZZ9X_tU"
      },
      "source": [
        "# Trabalhando com Integer"
      ]
    },
    {
      "cell_type": "code",
      "metadata": {
        "colab": {
          "base_uri": "https://localhost:8080/"
        },
        "id": "gHnPZqSeYGDO",
        "outputId": "3d411de5-c670-429b-f2a6-c30105d2b0a8"
      },
      "source": [
        "x = 50\n",
        "print(x)\n",
        "\n",
        "#declaração de número negativo\n",
        "y = -250\n",
        "print(y)\n",
        "\n",
        "#não faz diferença o sinal de positivo na frente do número\n",
        "a = +50  \n",
        "print(a)\n",
        "\n",
        "#verificando qual é o tipo de uma variável\n",
        "print(type(a))"
      ],
      "execution_count": null,
      "outputs": [
        {
          "output_type": "stream",
          "name": "stdout",
          "text": [
            "50\n",
            "-250\n",
            "50\n",
            "<class 'int'>\n"
          ]
        }
      ]
    },
    {
      "cell_type": "code",
      "metadata": {
        "colab": {
          "base_uri": "https://localhost:8080/"
        },
        "id": "DW_b1NgAb4H6",
        "outputId": "c5a63bc3-f6eb-463a-c10b-24a0585591d0"
      },
      "source": [
        "#declarando o tipo inteiro\n",
        "numero_alunos = int(50)\n",
        "print(numero_alunos)"
      ],
      "execution_count": null,
      "outputs": [
        {
          "output_type": "stream",
          "name": "stdout",
          "text": [
            "50\n"
          ]
        }
      ]
    },
    {
      "cell_type": "code",
      "metadata": {
        "colab": {
          "base_uri": "https://localhost:8080/"
        },
        "id": "uFvGCwQCb7wM",
        "outputId": "4e3f6659-a512-4e5a-bd87-e2e135e12cd7"
      },
      "source": [
        "#divisão de integer + integer = float\n",
        "divisao = 50/2\n",
        "print(divisao)\n",
        "print(type(divisao))\n",
        "\n",
        "#tornando o resultado de uma divisão em integer\n",
        "divisao = int(50/2)\n",
        "print(divisao)\n",
        "print(type(divisao))"
      ],
      "execution_count": null,
      "outputs": [
        {
          "output_type": "stream",
          "name": "stdout",
          "text": [
            "25.0\n",
            "<class 'float'>\n",
            "25\n",
            "<class 'int'>\n"
          ]
        }
      ]
    },
    {
      "cell_type": "code",
      "metadata": {
        "id": "hb-uVn8ocZ8f"
      },
      "source": [
        ""
      ],
      "execution_count": null,
      "outputs": []
    },
    {
      "cell_type": "markdown",
      "metadata": {
        "id": "2O608GXwdIk2"
      },
      "source": [
        "#Trabalhando com Float"
      ]
    },
    {
      "cell_type": "code",
      "metadata": {
        "colab": {
          "base_uri": "https://localhost:8080/"
        },
        "id": "1Uxe4TvWdPTb",
        "outputId": "62bb2090-2ae1-49d3-fd8b-268cabc41f23"
      },
      "source": [
        "a = 2.5\n",
        "print(type(a))\n",
        "\n",
        "b = -23.8\n",
        "print(type(b))\n",
        "\n",
        "c = 6,23  #vírgula não funciona para variável do tipo float\n",
        "print(type(c))"
      ],
      "execution_count": null,
      "outputs": [
        {
          "output_type": "stream",
          "name": "stdout",
          "text": [
            "<class 'float'>\n",
            "<class 'float'>\n",
            "<class 'tuple'>\n"
          ]
        }
      ]
    },
    {
      "cell_type": "code",
      "metadata": {
        "colab": {
          "base_uri": "https://localhost:8080/"
        },
        "id": "d5FhL8MdfykP",
        "outputId": "c0ceff85-644f-4a41-d7d0-a0d00fd3ea3e"
      },
      "source": [
        "#declarando números científicos com um \"e\" para indicar a potência de 10\n",
        "d = 35e3\n",
        "print(type(d))\n",
        "d1 = 35E3 \n",
        "print(type(d1))\n",
        "d2 = -15e4\n",
        "print(type(d2))"
      ],
      "execution_count": null,
      "outputs": [
        {
          "output_type": "stream",
          "name": "stdout",
          "text": [
            "<class 'float'>\n",
            "<class 'float'>\n",
            "<class 'float'>\n"
          ]
        }
      ]
    },
    {
      "cell_type": "code",
      "metadata": {
        "colab": {
          "base_uri": "https://localhost:8080/",
          "height": 129
        },
        "id": "mtfxote-f29u",
        "outputId": "2c06beb3-2554-420b-d572-d7546be2fae0"
      },
      "source": [
        "#outras letras não funcionam\n",
        "e = 15f3"
      ],
      "execution_count": null,
      "outputs": [
        {
          "output_type": "error",
          "ename": "SyntaxError",
          "evalue": "ignored",
          "traceback": [
            "\u001b[0;36m  File \u001b[0;32m\"<ipython-input-80-7170204a325b>\"\u001b[0;36m, line \u001b[0;32m2\u001b[0m\n\u001b[0;31m    e = 15f3\u001b[0m\n\u001b[0m           ^\u001b[0m\n\u001b[0;31mSyntaxError\u001b[0m\u001b[0;31m:\u001b[0m invalid syntax\n"
          ]
        }
      ]
    },
    {
      "cell_type": "markdown",
      "metadata": {
        "id": "f_o2GL-dqhM-"
      },
      "source": [
        "#Trabalhando com Boolean"
      ]
    },
    {
      "cell_type": "code",
      "metadata": {
        "colab": {
          "base_uri": "https://localhost:8080/"
        },
        "id": "PESsRRv8qner",
        "outputId": "8f0e226f-3934-4838-95da-e1eab943ccbe"
      },
      "source": [
        "5 == 5"
      ],
      "execution_count": null,
      "outputs": [
        {
          "output_type": "execute_result",
          "data": {
            "text/plain": [
              "True"
            ]
          },
          "metadata": {},
          "execution_count": 35
        }
      ]
    },
    {
      "cell_type": "code",
      "metadata": {
        "colab": {
          "base_uri": "https://localhost:8080/"
        },
        "id": "-mRMV5-utOvt",
        "outputId": "65ee60b4-9621-4263-8aa1-f99c3ef4d5da"
      },
      "source": [
        "5 == 4"
      ],
      "execution_count": null,
      "outputs": [
        {
          "output_type": "execute_result",
          "data": {
            "text/plain": [
              "False"
            ]
          },
          "metadata": {},
          "execution_count": 36
        }
      ]
    },
    {
      "cell_type": "code",
      "metadata": {
        "colab": {
          "base_uri": "https://localhost:8080/"
        },
        "id": "bSBkQJN-tuFo",
        "outputId": "01ba1fb4-a521-40e3-e328-efee2e5c08a8"
      },
      "source": [
        "15 > 10"
      ],
      "execution_count": null,
      "outputs": [
        {
          "output_type": "execute_result",
          "data": {
            "text/plain": [
              "True"
            ]
          },
          "metadata": {},
          "execution_count": 37
        }
      ]
    },
    {
      "cell_type": "code",
      "metadata": {
        "colab": {
          "base_uri": "https://localhost:8080/"
        },
        "id": "895-EfVHtxVS",
        "outputId": "c3f3df60-f774-4e7e-f31c-19225269c726"
      },
      "source": [
        "3 > 25"
      ],
      "execution_count": null,
      "outputs": [
        {
          "output_type": "execute_result",
          "data": {
            "text/plain": [
              "False"
            ]
          },
          "metadata": {},
          "execution_count": 38
        }
      ]
    },
    {
      "cell_type": "markdown",
      "metadata": {
        "id": "lRf1sjNpt6OD"
      },
      "source": [
        "Boolean também serve para String"
      ]
    },
    {
      "cell_type": "code",
      "metadata": {
        "colab": {
          "base_uri": "https://localhost:8080/"
        },
        "id": "6o1nfJHlt4g5",
        "outputId": "fc6c23df-13bd-47eb-ba54-32c406e82214"
      },
      "source": [
        "'python' == 'python'"
      ],
      "execution_count": null,
      "outputs": [
        {
          "output_type": "execute_result",
          "data": {
            "text/plain": [
              "True"
            ]
          },
          "metadata": {},
          "execution_count": 39
        }
      ]
    },
    {
      "cell_type": "code",
      "metadata": {
        "colab": {
          "base_uri": "https://localhost:8080/"
        },
        "id": "his8fRXrulr7",
        "outputId": "e6ce2e60-389a-44c0-d24e-00761fc88425"
      },
      "source": [
        "'python' == 'Python'"
      ],
      "execution_count": null,
      "outputs": [
        {
          "output_type": "execute_result",
          "data": {
            "text/plain": [
              "False"
            ]
          },
          "metadata": {},
          "execution_count": 40
        }
      ]
    },
    {
      "cell_type": "code",
      "metadata": {
        "colab": {
          "base_uri": "https://localhost:8080/"
        },
        "id": "b0tJXviWuxu4",
        "outputId": "8cf3122a-cca4-436d-bdc0-74d8fc6995e7"
      },
      "source": [
        "'python' == 'nohtyp'"
      ],
      "execution_count": null,
      "outputs": [
        {
          "output_type": "execute_result",
          "data": {
            "text/plain": [
              "False"
            ]
          },
          "metadata": {},
          "execution_count": 41
        }
      ]
    },
    {
      "cell_type": "code",
      "metadata": {
        "colab": {
          "base_uri": "https://localhost:8080/"
        },
        "id": "Dcdj821buqCS",
        "outputId": "8f0a3702-92d0-48c4-a8c3-512e3d1111a7"
      },
      "source": [
        "'python' > 'java'  #vide sessão 'tabela ASCII' para entender o resultado "
      ],
      "execution_count": null,
      "outputs": [
        {
          "output_type": "execute_result",
          "data": {
            "text/plain": [
              "True"
            ]
          },
          "metadata": {},
          "execution_count": 42
        }
      ]
    },
    {
      "cell_type": "code",
      "metadata": {
        "colab": {
          "base_uri": "https://localhost:8080/"
        },
        "id": "ouoCtYbQuum1",
        "outputId": "b4d596f9-a276-496d-87b2-d0201eda3c5e"
      },
      "source": [
        "'python' == 'java'"
      ],
      "execution_count": null,
      "outputs": [
        {
          "output_type": "execute_result",
          "data": {
            "text/plain": [
              "False"
            ]
          },
          "metadata": {},
          "execution_count": 43
        }
      ]
    },
    {
      "cell_type": "markdown",
      "metadata": {
        "id": "D815QX-JvA5M"
      },
      "source": [
        "### Tabela ASCII\n",
        "Código Padrão Americano para o intercâmbio de informação\n",
        "\n",
        "Código binário que codifica um conjunto de 128 sinais: 95 sinais gráficos"
      ]
    },
    {
      "cell_type": "code",
      "metadata": {
        "colab": {
          "base_uri": "https://localhost:8080/"
        },
        "id": "fIVWvjjbvr6D",
        "outputId": "35f19da7-0887-4c66-9c40-d6a8d66d2f75"
      },
      "source": [
        "'pão' > 'baú'"
      ],
      "execution_count": null,
      "outputs": [
        {
          "output_type": "execute_result",
          "data": {
            "text/plain": [
              "True"
            ]
          },
          "metadata": {},
          "execution_count": 48
        }
      ]
    },
    {
      "cell_type": "code",
      "metadata": {
        "colab": {
          "base_uri": "https://localhost:8080/"
        },
        "id": "70PZ9FmIwek0",
        "outputId": "05f628db-9c80-4f22-da8c-254ccb142197"
      },
      "source": [
        "#entendendo o resultado da célula anterior\n",
        "nome = 'pão'\n",
        "nome_1 = 'baú'\n",
        "\n",
        "print(nome.encode())\n",
        "print(nome_1.encode())\n",
        "\n",
        "'''\n",
        "pão == b'p\\xc3\\xa3o'    é assim que a palavra \"pão\" está armazenada na memória\n",
        "baú == b'ba\\xc3\\xba'    é assim que a palavra \"baú\" está armazenada na memória\n",
        "'''"
      ],
      "execution_count": null,
      "outputs": [
        {
          "output_type": "stream",
          "name": "stdout",
          "text": [
            "b'p\\xc3\\xa3o'\n",
            "b'ba\\xc3\\xba'\n"
          ]
        }
      ]
    },
    {
      "cell_type": "markdown",
      "metadata": {
        "id": "sL4Q9k2vyR4B"
      },
      "source": [
        "# Convertendo Tipos de Dados"
      ]
    },
    {
      "cell_type": "code",
      "metadata": {
        "id": "UbhmfMgayX6G"
      },
      "source": [
        "#Declaração das variáveis\n",
        "num = 500\n",
        "num_str = '200'\n",
        "fl = 23.5\n",
        "bl = 3 > 4\n",
        "\n",
        " # aconselha-se criar variável auxiliar para a converção, para não \"bagunçar\" a variável original. \n"
      ],
      "execution_count": null,
      "outputs": []
    },
    {
      "cell_type": "code",
      "metadata": {
        "colab": {
          "base_uri": "https://localhost:8080/"
        },
        "id": "0q8DoutH4LJA",
        "outputId": "93af8f5d-1702-4cdd-8dc8-62899030f00f"
      },
      "source": [
        "#Conversão de Integer\n",
        "num_x = str(num)  #converte para sting\n",
        "print(type(num_x))\n",
        "print(num_x)\n",
        "\n",
        "num_aux = float(num) #converte para float\n",
        "print(type(num_aux))\n",
        "print(num_aux)\n",
        "\n",
        "num_aux2 = bool(num)  #converte para boolean\n",
        "print(type(num_aux2))\n",
        "print(num_aux2)"
      ],
      "execution_count": null,
      "outputs": [
        {
          "output_type": "stream",
          "name": "stdout",
          "text": [
            "<class 'str'>\n",
            "500\n",
            "<class 'float'>\n",
            "500.0\n",
            "<class 'bool'>\n",
            "True\n"
          ]
        }
      ]
    },
    {
      "cell_type": "code",
      "metadata": {
        "colab": {
          "base_uri": "https://localhost:8080/"
        },
        "id": "QD0qQmrN4zd9",
        "outputId": "6e8e65a1-649f-4eb7-91b6-28fe0c349422"
      },
      "source": [
        "#Conversão de String\n",
        "num_str2 = int(num_str) #converte para integer\n",
        "print(type(num_str1))\n",
        "print(num_str1)\n",
        "\n",
        "num_str2 = float(num_str) #converte para float\n",
        "print(type(num_str2))\n",
        "print(num_str2)\n",
        "\n",
        "num_str3 = bool(num_str) #converte para boolean\n",
        "print(type(num_str3))\n",
        "print(num_str3)"
      ],
      "execution_count": null,
      "outputs": [
        {
          "output_type": "stream",
          "name": "stdout",
          "text": [
            "<class 'int'>\n",
            "200\n",
            "<class 'float'>\n",
            "200.0\n",
            "<class 'bool'>\n",
            "True\n"
          ]
        }
      ]
    },
    {
      "cell_type": "code",
      "metadata": {
        "colab": {
          "base_uri": "https://localhost:8080/"
        },
        "id": "fdA7uWm-1QSk",
        "outputId": "be7ad276-f9a2-4a59-c739-fce5b913df50"
      },
      "source": [
        "#Conversão de Float\n",
        "fl_aux = int(fl)  #converte para integer\n",
        "print(type(fl_aux)) \n",
        "print(fl_aux)\n",
        "\n",
        "fl_aux2 = str(fl) #converte para string\n",
        "print(type(fl_aux2))\n",
        "print(fl_aux2)\n",
        "\n",
        "fl_aux3 = bool(fl)  #converte para boolean\n",
        "print(type(fl_aux3))\n",
        "print(fl_aux3)"
      ],
      "execution_count": null,
      "outputs": [
        {
          "output_type": "stream",
          "name": "stdout",
          "text": [
            "<class 'int'>\n",
            "23\n",
            "<class 'str'>\n",
            "23.5\n",
            "<class 'bool'>\n",
            "True\n"
          ]
        }
      ]
    },
    {
      "cell_type": "code",
      "metadata": {
        "colab": {
          "base_uri": "https://localhost:8080/"
        },
        "id": "rVVBFlmB2ezq",
        "outputId": "3afa71af-ae14-4427-ba94-e29dafcf02bc"
      },
      "source": [
        "#Conversão de Boolean\n",
        "bl_aux = str(bl)  #converte para string\n",
        "print(type(bl_aux))\n",
        "print(bl_aux)\n",
        "\n",
        "bl_aux2 = int(bl) #converte para integer\n",
        "print(type(bl_aux2))\n",
        "print(bl_aux2)\n",
        "\n",
        "bl_aux3 = float(bl) #converte para float\n",
        "print(type(bl_aux3))\n",
        "print(bl_aux3)"
      ],
      "execution_count": null,
      "outputs": [
        {
          "output_type": "stream",
          "name": "stdout",
          "text": [
            "<class 'str'>\n",
            "False\n",
            "<class 'int'>\n",
            "0\n",
            "<class 'float'>\n",
            "0.0\n"
          ]
        }
      ]
    },
    {
      "cell_type": "markdown",
      "metadata": {
        "id": "7CpoCgoMNB-n"
      },
      "source": [
        "## Entrada de Dados"
      ]
    },
    {
      "cell_type": "code",
      "metadata": {
        "colab": {
          "base_uri": "https://localhost:8080/"
        },
        "id": "LZOnpyYnNPgF",
        "outputId": "0c3ab136-8bf0-4739-de0f-6778652c71fd"
      },
      "source": [
        "#todo input por padrão é uma String\n",
        "cod = input(\"Digite a seu código: \")\n",
        "print(cod)\n",
        "print(type(cod))"
      ],
      "execution_count": null,
      "outputs": [
        {
          "output_type": "stream",
          "name": "stdout",
          "text": [
            "Digite a seu código: 54\n",
            "54\n",
            "<class 'str'>\n"
          ]
        }
      ]
    },
    {
      "cell_type": "code",
      "metadata": {
        "colab": {
          "base_uri": "https://localhost:8080/"
        },
        "id": "DSv8xYolNjbB",
        "outputId": "b149e254-2251-482d-a67e-881026587b53"
      },
      "source": [
        "#tranformando um input em Integer\n",
        "cod_dois = int(input(\"Digite um código: \"))\n",
        "print(cod_dois)\n",
        "print(type(cod_dois))"
      ],
      "execution_count": null,
      "outputs": [
        {
          "output_type": "stream",
          "name": "stdout",
          "text": [
            "Digite um código: 32\n",
            "32\n",
            "<class 'int'>\n"
          ]
        }
      ]
    },
    {
      "cell_type": "code",
      "metadata": {
        "colab": {
          "base_uri": "https://localhost:8080/"
        },
        "id": "u1c0bT1HNm8y",
        "outputId": "07ac7d75-8a30-41f9-fd6e-07d4ebd9c40d"
      },
      "source": [
        "#tranformando um input em Float\n",
        "peso = float(input(\"Digite a a quantidade em peso: \"))\n",
        "print(peso)\n",
        "print(type(peso))"
      ],
      "execution_count": null,
      "outputs": [
        {
          "output_type": "stream",
          "name": "stdout",
          "text": [
            "Digite a a quantidade em gramas: 250\n",
            "250.0\n",
            "<class 'float'>\n"
          ]
        }
      ]
    },
    {
      "cell_type": "code",
      "metadata": {
        "colab": {
          "base_uri": "https://localhost:8080/"
        },
        "id": "Q5HoGMA_N7AG",
        "outputId": "390a4938-031d-4f0f-c97d-00e4824f4b33"
      },
      "source": [
        "#tranformando um input em Boolean\n",
        "cod_boo = bool(input(\"Digite seu código: \"))\n",
        "print(cod_boo)\n",
        "print(type(cod_boo))"
      ],
      "execution_count": null,
      "outputs": [
        {
          "output_type": "stream",
          "name": "stdout",
          "text": [
            "Digite seu código: 4321\n",
            "True\n",
            "<class 'bool'>\n"
          ]
        }
      ]
    },
    {
      "cell_type": "markdown",
      "metadata": {
        "id": "vgf6wjymtKgk"
      },
      "source": [
        "# Trabalhando com List"
      ]
    },
    {
      "cell_type": "code",
      "metadata": {
        "id": "oYqJDXCIW2Tr",
        "colab": {
          "base_uri": "https://localhost:8080/"
        },
        "outputId": "76665fe8-5409-4db0-cbbf-4843f5195a09"
      },
      "source": [
        "frutas_list = ['banana', 'laranja', 'abacate', 'melancia', 'caju', 'abacaxi']\n",
        "saldo_list = [500.00, 1200.00, 1000.00, 600.00, 50000.00]\n",
        "num_list = [25,36,50,45,22,33,89]\n",
        "\n",
        "print(frutas_list)\n",
        "print (saldo_list)\n",
        "print(num_list)"
      ],
      "execution_count": null,
      "outputs": [
        {
          "output_type": "stream",
          "name": "stdout",
          "text": [
            "['banana', 'laranja', 'abacate', 'melancia', 'caju', 'abacaxi']\n",
            "[500.0, 1200.0, 1000.0, 600.0, 50000.0]\n",
            "[25, 36, 50, 45, 22, 33, 89]\n"
          ]
        }
      ]
    },
    {
      "cell_type": "code",
      "metadata": {
        "colab": {
          "base_uri": "https://localhost:8080/"
        },
        "id": "6I7Ncs2dTaWL",
        "outputId": "75b7d242-f44c-4922-e6a2-8c77b4078958"
      },
      "source": [
        "#permite duplicados\n",
        "frutas_list_dup = ['banana', 'laranja', 'abacate', 'melancia', 'caju', 'abacaxi', 'banana', 'laranja', 'abacate']\n",
        "print(frutas_list_dup)\n",
        "\n",
        "num_list_dup = [25,36,50,45,22,33,89, 25,36,50]\n",
        "print(num_list_dup)"
      ],
      "execution_count": null,
      "outputs": [
        {
          "output_type": "stream",
          "name": "stdout",
          "text": [
            "['banana', 'laranja', 'abacate', 'melancia', 'caju', 'abacaxi', 'banana', 'laranja', 'abacate']\n",
            "[25, 36, 50, 45, 22, 33, 89, 25, 36, 50]\n"
          ]
        }
      ]
    },
    {
      "cell_type": "code",
      "metadata": {
        "colab": {
          "base_uri": "https://localhost:8080/"
        },
        "id": "q0H8VVBtq5iI",
        "outputId": "e6512fcb-6a74-4bde-aef2-92977f124fe8"
      },
      "source": [
        "#pode conter diferentes tipos de dados\n",
        "variados_list = [10, 2.5, 'Python']\n",
        "print(variados_list)"
      ],
      "execution_count": null,
      "outputs": [
        {
          "output_type": "stream",
          "name": "stdout",
          "text": [
            "[10, 2.5, 'Python']\n"
          ]
        }
      ]
    },
    {
      "cell_type": "code",
      "metadata": {
        "colab": {
          "base_uri": "https://localhost:8080/"
        },
        "id": "B2BDO1BpT8W7",
        "outputId": "05bae8fe-3c0c-412e-9e3a-b29afa4e16c0"
      },
      "source": [
        "#calculando tamanho\n",
        "len(saldo_list)  #len é a abreviação de lenght"
      ],
      "execution_count": null,
      "outputs": [
        {
          "output_type": "execute_result",
          "data": {
            "text/plain": [
              "5"
            ]
          },
          "metadata": {},
          "execution_count": 43
        }
      ]
    },
    {
      "cell_type": "code",
      "metadata": {
        "colab": {
          "base_uri": "https://localhost:8080/"
        },
        "id": "6aEASqKqrb0Y",
        "outputId": "687328e9-a07c-4121-bc62-498c774417c6"
      },
      "source": [
        "#acessando um item\n",
        "print(frutas_list[2])\n",
        "print(frutas_list[3])"
      ],
      "execution_count": null,
      "outputs": [
        {
          "output_type": "stream",
          "name": "stdout",
          "text": [
            "abacate\n",
            "melancia\n"
          ]
        }
      ]
    },
    {
      "cell_type": "code",
      "metadata": {
        "colab": {
          "base_uri": "https://localhost:8080/"
        },
        "id": "z-lpXUK5s2so",
        "outputId": "eb69b48d-e8d4-4955-cff6-393acbc02394"
      },
      "source": [
        "#adicionando itens\n",
        "frutas_list.append('morango')  #append = acrescentar\n",
        "print(frutas_list)"
      ],
      "execution_count": null,
      "outputs": [
        {
          "output_type": "stream",
          "name": "stdout",
          "text": [
            "['banana', 'laranja', 'abacate', 'melancia', 'caju', 'abacaxi', 'morango']\n"
          ]
        }
      ]
    },
    {
      "cell_type": "code",
      "metadata": {
        "colab": {
          "base_uri": "https://localhost:8080/"
        },
        "id": "ktTTqhQet_uB",
        "outputId": "2ede3e42-13df-4b27-ee85-2ee02e212a63"
      },
      "source": [
        "#unindo listas\n",
        "frutas_list_dois = ['banana', 'laranja']\n",
        "saldo_list_dois = [500.00, 1200.00]\n",
        "num_list_dois = [25,36,50]\n",
        "\n",
        "num_list_dois.extend(saldo_list_dois)  #um_dois agora contém as duas variáveis\n",
        "print(num_list_dois)\n",
        "\n",
        "frutas_list_dois.extend(num_list_dois)   #nesse caso, ao adicionar num_dois, saldo_dois também entra \n",
        "print(frutas_list_dois)"
      ],
      "execution_count": null,
      "outputs": [
        {
          "output_type": "stream",
          "name": "stdout",
          "text": [
            "[25, 36, 50, 500.0, 1200.0]\n",
            "['banana', 'laranja', 25, 36, 50, 500.0, 1200.0]\n"
          ]
        }
      ]
    },
    {
      "cell_type": "markdown",
      "metadata": {
        "id": "G-65qu9g1pAm"
      },
      "source": [
        "#Trabalhando com Tuple"
      ]
    },
    {
      "cell_type": "code",
      "metadata": {
        "colab": {
          "base_uri": "https://localhost:8080/"
        },
        "id": "n8sr_R861vBM",
        "outputId": "c8cb0e94-5510-4607-c00c-00e1a296fef6"
      },
      "source": [
        "frutas_tupla = ('banana', 'laranja', 'abacate', 'melancia', 'caju', 'abacaxi')\n",
        "saldo_tupla = (500.00, 1200.00, 1000.00, 600.00, 50000.00)\n",
        "num_tupla = (25,36,50,45,22,33,89)\n",
        "\n",
        "print(frutas_tupla)\n",
        "print(saldo_tupla)\n",
        "print(num_tupla)"
      ],
      "execution_count": null,
      "outputs": [
        {
          "output_type": "stream",
          "name": "stdout",
          "text": [
            "('banana', 'laranja', 'abacate', 'melancia', 'caju', 'abacaxi')\n",
            "(500.0, 1200.0, 1000.0, 600.0, 50000.0)\n",
            "(25, 36, 50, 45, 22, 33, 89)\n"
          ]
        }
      ]
    },
    {
      "cell_type": "code",
      "metadata": {
        "colab": {
          "base_uri": "https://localhost:8080/"
        },
        "id": "oHHYhsRn1_Aq",
        "outputId": "b389a2b3-6f7e-4ce8-b5b3-af2c0b535a02"
      },
      "source": [
        "#permite duplicados\n",
        "saldo_tupla_dup = (500.0, 1200.0, 1000.0, 600.0, 50000.0, 500.0, 1200.0, 1000.0)\n",
        "print(saldo_tupla_dup)"
      ],
      "execution_count": null,
      "outputs": [
        {
          "output_type": "stream",
          "name": "stdout",
          "text": [
            "(500.0, 1200.0, 1000.0, 600.0, 50000.0, 500.0, 1200.0, 1000.0)\n"
          ]
        }
      ]
    },
    {
      "cell_type": "code",
      "metadata": {
        "colab": {
          "base_uri": "https://localhost:8080/"
        },
        "id": "oxKr7zE1NbAQ",
        "outputId": "cfd18dcb-4799-49e1-9b84-56b253c1c899"
      },
      "source": [
        "#calculando tamanho\n",
        "len(frutas_tupla)  #len é a abreviação de lenght\n",
        "print(type(frutas_tupla))"
      ],
      "execution_count": null,
      "outputs": [
        {
          "output_type": "stream",
          "name": "stdout",
          "text": [
            "<class 'tuple'>\n"
          ]
        }
      ]
    },
    {
      "cell_type": "code",
      "metadata": {
        "colab": {
          "base_uri": "https://localhost:8080/"
        },
        "id": "Xkq31UuNN1Kp",
        "outputId": "dd969a19-675f-4074-9d1f-907166a22600"
      },
      "source": [
        "#acessando um item\n",
        "print(frutas_tupla[1])\n",
        "\n",
        "#os valores são indexados\n",
        "print(frutas_tupla[1:4])    #o último index não mostra seu valor (nesse caso, 4)\n",
        "print(frutas_tupla[0:50])   #se o último index for maior que a variável, mostra-se todos os valores"
      ],
      "execution_count": null,
      "outputs": [
        {
          "output_type": "stream",
          "name": "stdout",
          "text": [
            "laranja\n",
            "('laranja', 'abacate', 'melancia')\n",
            "('banana', 'laranja', 'abacate', 'melancia', 'caju', 'abacaxi')\n"
          ]
        }
      ]
    },
    {
      "cell_type": "code",
      "metadata": {
        "colab": {
          "base_uri": "https://localhost:8080/"
        },
        "id": "cU-gZiC41-12",
        "outputId": "70bb4c98-4700-4730-8d63-c42de22e4ff8"
      },
      "source": [
        "#unindo tuplas\n",
        "tupla_junto = frutas_tupla + num_tupla\n",
        "print(tupla_junto)\n",
        "print(type(tupla_junto))"
      ],
      "execution_count": null,
      "outputs": [
        {
          "output_type": "stream",
          "name": "stdout",
          "text": [
            "('banana', 'laranja', 'abacate', 'melancia', 'caju', 'abacaxi', 25, 36, 50, 45, 22, 33, 89, 500.0, 1200.0, 1000.0, 600.0, 50000.0)\n",
            "<class 'tuple'>\n"
          ]
        }
      ]
    },
    {
      "cell_type": "code",
      "metadata": {
        "colab": {
          "base_uri": "https://localhost:8080/"
        },
        "id": "E8RC2bz-1-oS",
        "outputId": "7b8e9e5a-fc30-409b-d29b-832349781fd1"
      },
      "source": [
        "#contando valores repetidos\n",
        "num_tupla_dois = (25, 36, 50, 45, 22, 33, 89, 25, 36, 50, 45, 22, 33, 89, 25, 36, 50, 45, 22, 33, 89, 25, 36, 50, 45, 22, 33, 89,\n",
        "                  25, 36, 50, 45, 22, 33, 89, 25, 36, 50, 45, 22, 33, 89, 25, 36, 50, 45, 22, 33, 89, 25, 36, 50, 45, 22, 33, 89,\n",
        "                  25, 36, 50, 45, 22, 33, 89, 25, 36, 50, 45, 22, 33, 89, 25, 36, 50, 45, 22, 33, 89, 25, 36, 50, 45, 22, 33, 89,\n",
        "                  25, 36, 50, 45, 22, 33, 89, 25, 36, 50, 45, 22, 33, 89, 25, 36, 50, 45, 22, 33, 89, 25, 36, 50, 45, 22, 33, 89)\n",
        "num_tupla_dois.count(45)    #verifica quantas vezes o número 45 se repete na tupla"
      ],
      "execution_count": null,
      "outputs": [
        {
          "output_type": "execute_result",
          "data": {
            "text/plain": [
              "16"
            ]
          },
          "metadata": {},
          "execution_count": 68
        }
      ]
    },
      "source": [
        "# If / Elif"
      ]
    },
    {
      "cell_type": "code",
      "metadata": {
        "colab": {
          "base_uri": "https://localhost:8080/"
        },
        "id": "XqKr1WX6GJPl",
        "outputId": "dce286de-aaf9-40ad-f1a2-21f92ab71b59"
      },
      "source": [
        "#criando variáveis de exemplo\n",
        "a = 50\n",
        "b = 100\n",
        "c = 50\n",
        "print(c)"
      ],
      "execution_count": null,
      "outputs": [
        {
          "output_type": "stream",
          "name": "stdout",
          "text": [
            "50\n"
          ]
        }
      ]
    },
    {
      "cell_type": "code",
      "metadata": {
        "colab": {
          "base_uri": "https://localhost:8080/"
        },
        "id": "N8hgt1kbGJxb",
        "outputId": "8ef7b16f-3219-41ea-900b-a5afae046f09"
      },
      "source": [
        "#igualdade\n",
        "if a == c:\n",
        "  print ('A é igual a C')\n",
        "\n",
        "#diferença\n",
        "if a != b:\n",
        "  print ('A é diferente de B')\n",
        "\n",
        "#menor que\n",
        "if a < b:\n",
        "  print('A é menor do que B')\n",
        "\n",
        "#menor ou igual que\n",
        "if a <= c:\n",
        "  print('A é menor ou igual do que B')\n",
        "\n",
        "#maior que\n",
        "if b > c:\n",
        "  print('B é maior do que C')"
      ],
      "execution_count": null,
      "outputs": [
        {
          "output_type": "stream",
          "name": "stdout",
          "text": [
            "A é igual a C\n",
            "A é diferente de B\n",
            "A é menor do que B\n",
            "A é menor ou igual do que B\n",
            "B é maior do que C\n"
          ]
        }
      ]
    },
    {
      "cell_type": "code",
      "metadata": {
        "colab": {
          "base_uri": "https://localhost:8080/"
        },
        "id": "VJpJ4udFGJnQ",
        "outputId": "0f073173-7b8b-4eb8-cbbe-16dc2719f2d7"
      },
      "source": [
        "#estrutura elif\n",
        "idade1 = int(input(\"Digite a sua idade: \"))\n",
        "if idade1 >= 18:\n",
        "  print('Você já pode dirigir')\n",
        "elif idade1 < 18:\n",
        "  print('Você ainda não pode dirigir')\n"
      ],
      "execution_count": null,
      "outputs": [
        {
          "output_type": "stream",
          "name": "stdout",
          "text": [
            "Digite a sua idade: 23\n",
            "Você já pode dirigir\n"
          ]
        }
      ]
    },
    {
      "cell_type": "code",
      "metadata": {
        "colab": {
          "base_uri": "https://localhost:8080/"
        },
        "id": "Iw0hddO9GJkf",
        "outputId": "86774290-2dcd-4568-80d6-d34be4a55a2c"
      },
      "source": [
        "#também pode usar else\n",
        "exercicio = int(input(\"Quantos minutos você se exercita por dia: \"))\n",
        "\n",
        "if exercicio <30:\n",
        "  print('Você deveria se exercitar mais')\n",
        "elif exercicio >= 30 and exercicio <= 60:\n",
        "  print('Você está no caminho certo')\n",
        "elif exercicio >60 and exercicio <= 120:\n",
        "  print('Você é um(a) atleta')\n",
        "else:\n",
        "  print('Uau, você se exercita muito')"
      ],
      "execution_count": null,
      "outputs": [
        {
          "output_type": "stream",
          "name": "stdout",
          "text": [
            "Quantos minutos você se exercita por dia: 110\n",
            "Você é um(a) atleta\n"
          ]
        }
      ]
    },
    {
      "cell_type": "code",
      "metadata": {
        "colab": {
          "base_uri": "https://localhost:8080/"
        },
        "id": "ahFnKozBXkIP",
        "outputId": "80b718c1-dacf-4afe-b0b9-27e4429fd109"
      },
      "source": [
        "#outra maneira de usar elif   ''' '''\n",
        "exercicio = int(input(\"Quantos minutos você se exercita por dia: \"))\n",
        "\n",
        "if exercicio <30:\n",
        "  print('Você deveria se exercitar mais')\n",
        "elif exercicio <= 60:\n",
        "  print('Você está no caminho certo')\n",
        "elif exercicio <= 120:\n",
        "  print('Você é um(a) atleta')\n",
        "else:\n",
        "  print('Uau, você se exercita muito')   "
      ],
      "execution_count": null,
      "outputs": [
        {
          "output_type": "stream",
          "name": "stdout",
          "text": [
            "Quantos minutos você se exercita por dia: 30\n",
            "Você está no caminho certo\n"
          ]
        }
      ]
    },
    {
      "cell_type": "code",
      "metadata": {
        "colab": {
          "base_uri": "https://localhost:8080/"
        },
        "id": "hSdbyPTlUwHx",
        "outputId": "05a2e912-715b-4dbb-c7fd-a84d27e20129"
      },
      "source": [
        "#variáveis rotina de vida\n",
        "trabalho = input (\"Você deve trabalhar hoje? \")\n",
        "dia = input(\"O dia está bonito? \")\n",
        "preguica = input(\"Você está com preguiça? \")"
      ],
      "execution_count": null,
      "outputs": [
        {
          "name": "stdout",
          "output_type": "stream",
          "text": [
            "Você deve trabalhar hoje? não\n",
            "O dia está bonito? sim\n",
            "Você está com preguiça? não\n"
          ]
        }
      ]
    },
    {
      "cell_type": "code",
      "metadata": {
        "colab": {
          "base_uri": "https://localhost:8080/"
        },
        "id": "q6CzjfajXHLn",
        "outputId": "09f46447-f69b-426c-e11a-25a703cd2c4d"
      },
      "source": [
        "#estrutura de condição rotina de vida\n",
        "\n",
        "if trabalho == 'sim':\n",
        "  print(\"É uma pena\")\n",
        "elif trabalho == 'não':\n",
        "  print(\"Aproveite o seu dia\")\n",
        "\n",
        "if dia == 'sim' and trabalho == 'não':\n",
        "  print(\"Aproveite para caminhar\")\n",
        "elif dia == 'não' and trabalho == 'não':\n",
        "  print(\"Aproveite e assista um filme\")\n",
        "\n",
        "if preguica == 'sim' and trabalho == 'não':\n",
        "  print(\"Aproveita e dorme mais\")\n",
        "elif preguica == 'não' and trabalho == 'não': \n",
        "  print(\"Que tal estudar Python?\")"
      ],
      "execution_count": null,
      "outputs": [
        {
          "output_type": "stream",
          "name": "stdout",
          "text": [
            "Aproveite o seu dia\n",
            "Aproveite para caminhar\n",
            "Que tal estudar Python?\n"
          ]
        }
      ]
    },
    {
      "cell_type": "markdown",
      "metadata": {
        "id": "vG7Ua4kPb7dv"
      },
      "source": [
        "# Trabalhando com Loop"
      ]
    },
    {
      "cell_type": "markdown",
      "metadata": {
        "id": "g3OY3ReWL5Fo"
      },
      "source": [
        "## For"
      ]
    },
    {
      "cell_type": "code",
      "metadata": {
        "colab": {
          "base_uri": "https://localhost:8080/",
          "height": 35
        },
        "id": "BVmrFwgYcG91",
        "outputId": "4d45c422-a304-43b0-c8b3-376ab2d0b044"
      },
      "source": [
        "'''\n",
        "Sintax:\n",
        "\n",
        "for i in variavel:\n",
        "  print(i)\n",
        "'''"
      ],
      "execution_count": null,
      "outputs": [
        {
          "output_type": "execute_result",
          "data": {
            "application/vnd.google.colaboratory.intrinsic+json": {
              "type": "string"
            },
            "text/plain": [
              "'\\nSintax:\\n\\nfor i in variavel:\\n  print(i)\\n'"
            ]
          },
          "metadata": {},
          "execution_count": 24
        }
      ]
    },
    {
      "cell_type": "code",
      "metadata": {
        "colab": {
          "base_uri": "https://localhost:8080/"
        },
        "id": "a6e1VOSxGoqm",
        "outputId": "372face8-6f9f-4919-cc1e-3241ad976960"
      },
      "source": [
        "#for em listas\n",
        "cor = ['verde', 'amarelo', 'azul', 'cinza', 'vermelho']\n",
        "\n",
        "for i in cor:\n",
        "  print(i)"
      ],
      "execution_count": null,
      "outputs": [
        {
          "output_type": "stream",
          "name": "stdout",
          "text": [
            "verde\n",
            "amarelo\n",
            "azul\n",
            "cinza\n",
            "vermelho\n"
          ]
        }
      ]
    },
    {
      "cell_type": "code",
      "metadata": {
        "colab": {
          "base_uri": "https://localhost:8080/"
        },
        "id": "1hZ6LnZTcHUh",
        "outputId": "baaa2c3a-686a-468c-8402-232043264bbd"
      },
      "source": [
        "#for em strings\n",
        "for i in 'bom dia':\n",
        "  print(i)"
      ],
      "execution_count": null,
      "outputs": [
        {
          "output_type": "stream",
          "name": "stdout",
          "text": [
            "b\n",
            "o\n",
            "m\n",
            " \n",
            "d\n",
            "i\n",
            "a\n"
          ]
        }
      ]
    },
    {
      "cell_type": "code",
      "metadata": {
        "colab": {
          "base_uri": "https://localhost:8080/"
        },
        "id": "FNXVwzZqcHQn",
        "outputId": "8ac2ba9a-4946-4696-c19c-777d747506e6"
      },
      "source": [
        "#for em tuplas\n",
        "numeros = (1, 2, 3, 4, 5, 6, 7, 8, 9, 10)\n",
        "\n",
        "for x in numeros:\n",
        "  print(x)"
      ],
      "execution_count": null,
      "outputs": [
        {
          "output_type": "stream",
          "name": "stdout",
          "text": [
            "1\n",
            "2\n",
            "3\n",
            "4\n",
            "5\n",
            "6\n",
            "7\n",
            "8\n",
            "9\n",
            "10\n",
            "\n",
            "\n"
          ]
        }
      ]
    },
    {
      "cell_type": "code",
      "metadata": {
        "colab": {
          "base_uri": "https://localhost:8080/"
        },
        "id": "ycvH-T_scHNW",
        "outputId": "b78919af-ea8d-4062-924f-0042a6b0b20f"
      },
      "source": [
        "#for e break\n",
        "for x in numeros:\n",
        "  print(x)\n",
        "  if x == 7:\n",
        "    break"
      ],
      "execution_count": null,
      "outputs": [
        {
          "output_type": "stream",
          "name": "stdout",
          "text": [
            "1\n",
            "2\n",
            "3\n",
            "4\n",
            "5\n",
            "6\n",
            "7\n"
          ]
        }
      ]
    },
    {
      "cell_type": "markdown",
      "metadata": {
        "id": "l7E-dXl_Li7e"
      },
      "source": [
        "## While"
      ]
    },
    {
      "cell_type": "code",
      "metadata": {
        "colab": {
          "base_uri": "https://localhost:8080/"
        },
        "id": "8EJeJ5gPL_hM",
        "outputId": "bfbd851a-6769-491f-87c1-7984a0d47106"
      },
      "source": [
        "num = 1\n",
        "\n",
        "while num < 10:\n",
        "  print (num)\n",
        "  num += 1"
      ],
      "execution_count": null,
      "outputs": [
        {
          "output_type": "stream",
          "name": "stdout",
          "text": [
            "1\n",
            "2\n",
            "3\n",
            "4\n",
            "5\n",
            "6\n",
            "7\n",
            "8\n",
            "9\n"
          ]
        }
      ]
    },
    {
      "cell_type": "code",
      "metadata": {
        "colab": {
          "base_uri": "https://localhost:8080/"
        },
        "id": "FK007IAwMAXy",
        "outputId": "bbdc1675-b726-444a-ac89-9fa453d8ef3e"
      },
      "source": [
        "#while e break\n",
        "num = 1\n",
        "\n",
        "while num < 10:\n",
        "  print (num)\n",
        "  if num == 6:\n",
        "    break\n",
        "  num += 1"
      ],
      "execution_count": null,
      "outputs": [
        {
          "output_type": "stream",
          "name": "stdout",
          "text": [
            "1\n",
            "2\n",
            "3\n",
            "4\n",
            "5\n",
            "6\n"
          ]
        }
      ]
    },
    {
      "cell_type": "code",
      "metadata": {
        "colab": {
          "base_uri": "https://localhost:8080/"
        },
        "id": "pCDXIhf9L_8H",
        "outputId": "47054f21-9b11-4478-e213-6412ea78a732"
      },
      "source": [
        "#while e continue\n",
        "num = 0\n",
        "\n",
        "while num < 11:\n",
        "  num += 1\n",
        "  if num == 10:\n",
        "    continue\n",
        "  print(num)"
      ],
      "execution_count": null,
      "outputs": [
        {
          "output_type": "stream",
          "name": "stdout",
          "text": [
            "1\n",
            "2\n",
            "3\n",
            "4\n",
            "5\n",
            "6\n",
            "7\n",
            "8\n",
            "9\n",
            "11\n"
          ]
        }
      ]
    },
    {
      "cell_type": "markdown",
      "metadata": {
        "id": "3TI9mo2TPLfk"
      },
      "source": [
        "# Trabalhando com Funções"
      ]
    },
    {
      "cell_type": "markdown",
      "metadata": {
        "id": "neEq7AbAPbGz"
      },
      "source": [
        "## Range"
      ]
    },
    {
      "cell_type": "code",
      "metadata": {
        "id": "L0Ip8YGwPakj"
      },
      "source": [
        "'''\n",
        "Sintax:\n",
        "\n",
        "range(inicio, termino, salto)\n",
        "'''\n",
        "#função (argumentos, separados por vígula)"
      ],
      "execution_count": null,
      "outputs": []
    },
    {
      "cell_type": "code",
      "metadata": {
        "colab": {
          "base_uri": "https://localhost:8080/"
        },
        "id": "hHGP-2tLPsxu",
        "outputId": "767a72cf-8258-4f9d-8877-b90aa1d5efe6"
      },
      "source": [
        "for i in range(1, 21):  # o último valor do término não entra no range\n",
        "  print (i)   # nesse caso, vai imprimir até 20"
      ],
      "execution_count": null,
      "outputs": [
        {
          "output_type": "stream",
          "name": "stdout",
          "text": [
            "1\n",
            "2\n",
            "3\n",
            "4\n",
            "5\n",
            "6\n",
            "7\n",
            "8\n",
            "9\n",
            "10\n",
            "11\n",
            "12\n",
            "13\n",
            "14\n",
            "15\n",
            "16\n",
            "17\n",
            "18\n",
            "19\n",
            "20\n"
          ]
        }
      ]
    },
    {
      "cell_type": "code",
      "metadata": {
        "colab": {
          "base_uri": "https://localhost:8080/"
        },
        "id": "hLOxYbTiPspa",
        "outputId": "5c1ae97a-a6de-451f-ff0c-bb0074adbe78"
      },
      "source": [
        "for i in range(0, 51, 10):\n",
        "  print(i)"
      ],
      "execution_count": null,
      "outputs": [
        {
          "output_type": "stream",
          "name": "stdout",
          "text": [
            "0\n",
            "10\n",
            "20\n",
            "30\n",
            "40\n",
            "50\n"
          ]
        }
      ]
    },
    {
      "cell_type": "markdown",
      "metadata": {
        "id": "01m9anKTPey2"
      },
      "source": [
        "## Def"
      ]
    },
    {
      "cell_type": "code",
      "metadata": {
        "colab": {
          "base_uri": "https://localhost:8080/"
        },
        "id": "khd7FlafPg8A",
        "outputId": "2cb21aff-2d01-4b00-98fd-e34d4ce51265"
      },
      "source": [
        "def soma(x, y):\n",
        "  print(x + y)\n",
        "\n",
        "soma(10,5)"
      ],
      "execution_count": null,
      "outputs": [
        {
          "output_type": "stream",
          "name": "stdout",
          "text": [
            "15\n"
          ]
        }
      ]
    },
    {
      "cell_type": "code",
      "metadata": {
        "id": "RbbVoCBUUy0i"
      },
      "source": [
        "def imc(peso, altura):\n",
        "  imc = peso/(altura**2)\n",
        "  if imc < 18.5:\n",
        "    print('Magreza')\n",
        "  elif imc <= 24.9:\n",
        "    print('Normal')\n",
        "  elif imc <= 29.9:\n",
        "    print('Sobrepeso')\n",
        "  elif imc <= 39.9:\n",
        "    print('Obesidade I')\n",
        "  else:\n",
        "    print('Obesidade II')\n",
        "  return    \n",
        "  \n",
        "'''o return sozinho mostra apenas o que está o que se pede (o que está no print) \n",
        "mas se acompanhado do nome da função (imc) mostra também o resultado do cálculo'''"
      ],
      "execution_count": null,
      "outputs": []
    },
    {
      "cell_type": "code",
      "metadata": {
        "colab": {
          "base_uri": "https://localhost:8080/"
        },
        "id": "mh-o8T8qW3vd",
        "outputId": "c789ffa3-f912-48ea-8670-6e36025771c2"
      },
      "source": [
        "imc(120, 1.90)"
      ],
      "execution_count": null,
      "outputs": [
        {
          "output_type": "stream",
          "name": "stdout",
          "text": [
            "Obesidade I\n"
          ]
        }
      ]
    },
    {
      "cell_type": "markdown",
      "metadata": {
        "id": "Y5VvyKhjPhs2"
      },
      "source": [
        "## Lambda (Funções Anônimas)"
      ]
    },
    {
      "cell_type": "code",
      "metadata": {
        "id": "Y-opXpJ0PrA8"
      },
      "source": [
        "'''essa função também é conhecida como 'Função Anônima' porque não damos nome à função\n",
        "a sintax dela é: variável = função 'espaço' argumentos, separados por vígula: instruções'''\n",
        "\n",
        "soma = lambda x, y: x + y"
      ],
      "execution_count": null,
      "outputs": []
    },
    {
      "cell_type": "code",
      "metadata": {
        "colab": {
          "base_uri": "https://localhost:8080/"
        },
        "id": "I2G2r_MQbGCf",
        "outputId": "bd437564-fff1-41d1-b5d1-bccdfe1046ce"
      },
      "source": [
        "soma (3, 2)"
      ],
      "execution_count": null,
      "outputs": [
        {
          "output_type": "execute_result",
          "data": {
            "text/plain": [
              "5"
            ]
          },
          "metadata": {},
          "execution_count": 48
        }
      ]
    },
    {
      "cell_type": "code",
      "metadata": {
        "colab": {
          "base_uri": "https://localhost:8080/"
        },
        "id": "WkkYSUCdivL6",
        "outputId": "a8989f47-be9e-45a8-fadc-af244494fc8b"
      },
      "source": [
        "#outra maneira de usar lambda\n",
        "valores = [30, 300, 98, 140]\n",
        "imp = list(map(lambda y: y*0.4, precos))\n",
        "print(imp)\n",
        "print(type(imp))"
      ],
      "execution_count": null,
      "outputs": [
        {
          "output_type": "stream",
          "name": "stdout",
          "text": [
            "[12.0, 120.0, 39.2, 56.0]\n",
            "<class 'list'>\n"
          ]
        }
      ]
    }
  ]
}
