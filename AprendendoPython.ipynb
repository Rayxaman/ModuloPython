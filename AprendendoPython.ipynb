{
  "nbformat": 4,
  "nbformat_minor": 0,
  "metadata": {
    "colab": {
      "name": "AprendendoPython.ipynb",
      "provenance": [],
      "toc_visible": true,
      "authorship_tag": "ABX9TyOMtrUkKXS+b7TbVdG/1ovl",
      "include_colab_link": true
    },
    "kernelspec": {
      "name": "python3",
      "display_name": "Python 3"
    },
    "language_info": {
      "name": "python"
    }
  },
  "cells": [
    {
      "cell_type": "markdown",
      "metadata": {
        "id": "view-in-github",
        "colab_type": "text"
      },
      "source": [
        "<a href=\"https://colab.research.google.com/github/Rayxaman/linguagem-python/blob/main/AprendendoPython.ipynb\" target=\"_parent\"><img src=\"https://colab.research.google.com/assets/colab-badge.svg\" alt=\"Open In Colab\"/></a>"
      ]
    },
    {
      "cell_type": "markdown",
      "metadata": {
        "id": "kuxWONkid1b2"
      },
      "source": [
        "Módulo 3 (Python)\n",
        "\n",
        "Bootcamp IGTI - Desenvolvedor(a) de Software Iniciante."
      ]
    },
    {
      "cell_type": "code",
      "metadata": {
        "id": "T3Zq1wGteK5Z",
        "colab": {
          "base_uri": "https://localhost:8080/"
        },
        "outputId": "2c4d1a21-80ec-46ef-bfb8-e9abc4927327"
      },
      "source": [
        "print('Olá Mundo!')"
      ],
      "execution_count": null,
      "outputs": [
        {
          "output_type": "stream",
          "name": "stdout",
          "text": [
            "Olá Mundo!\n"
          ]
        }
      ]
    },
    {
      "cell_type": "markdown",
      "metadata": {
        "id": "ckGWPk9njF46"
      },
      "source": [
        "# Primeiros Passos"
      ]
    },
    {
      "cell_type": "code",
      "metadata": {
        "colab": {
          "base_uri": "https://localhost:8080/"
        },
        "id": "feOUaDZPfppB",
        "outputId": "d15eb3f3-067f-42bf-d89f-e031f0b29ae8"
      },
      "source": [
        "5+5"
      ],
      "execution_count": null,
      "outputs": [
        {
          "output_type": "execute_result",
          "data": {
            "text/plain": [
              "10"
            ]
          },
          "metadata": {},
          "execution_count": 5
        }
      ]
    },
    {
      "cell_type": "code",
      "metadata": {
        "colab": {
          "base_uri": "https://localhost:8080/"
        },
        "id": "iu7IQaJAfjlf",
        "outputId": "ad50d5da-3fc0-47d1-953a-a64853261ee7"
      },
      "source": [
        "10-2"
      ],
      "execution_count": null,
      "outputs": [
        {
          "output_type": "execute_result",
          "data": {
            "text/plain": [
              "8"
            ]
          },
          "metadata": {},
          "execution_count": 6
        }
      ]
    },
    {
      "cell_type": "code",
      "metadata": {
        "colab": {
          "base_uri": "https://localhost:8080/"
        },
        "id": "K2OgNjqLf8MI",
        "outputId": "08e97471-81dd-42a6-c63f-0b43638b614f"
      },
      "source": [
        "50/2"
      ],
      "execution_count": null,
      "outputs": [
        {
          "output_type": "execute_result",
          "data": {
            "text/plain": [
              "25.0"
            ]
          },
          "metadata": {},
          "execution_count": 7
        }
      ]
    },
    {
      "cell_type": "code",
      "metadata": {
        "colab": {
          "base_uri": "https://localhost:8080/"
        },
        "id": "TJOiSqwuf-rs",
        "outputId": "5c4a9dda-a5af-4dfc-8c8d-48aeecc61508"
      },
      "source": [
        "print(5+5)"
      ],
      "execution_count": null,
      "outputs": [
        {
          "output_type": "stream",
          "name": "stdout",
          "text": [
            "10\n"
          ]
        }
      ]
    },
    {
      "cell_type": "code",
      "metadata": {
        "id": "9wnUrTUPgR6y"
      },
      "source": [
        "a = 5\n",
        "print(a)"
      ],
      "execution_count": null,
      "outputs": []
    },
    {
      "cell_type": "code",
      "metadata": {
        "id": "wj4xA21Eg2ZA"
      },
      "source": [
        "b = 10"
      ],
      "execution_count": null,
      "outputs": []
    },
    {
      "cell_type": "code",
      "metadata": {
        "colab": {
          "base_uri": "https://localhost:8080/"
        },
        "id": "ESV_QpHag5u-",
        "outputId": "4ad6dff4-738b-4b0a-cc5e-9b775217b3f1"
      },
      "source": [
        "a + b"
      ],
      "execution_count": null,
      "outputs": [
        {
          "output_type": "execute_result",
          "data": {
            "text/plain": [
              "15"
            ]
          },
          "metadata": {},
          "execution_count": 14
        }
      ]
    },
    {
      "cell_type": "code",
      "metadata": {
        "colab": {
          "base_uri": "https://localhost:8080/"
        },
        "id": "0Tg2009Nhi6s",
        "outputId": "c8e631d5-211b-48b5-d47e-8d45253c64b8"
      },
      "source": [
        "a * b"
      ],
      "execution_count": null,
      "outputs": [
        {
          "output_type": "execute_result",
          "data": {
            "text/plain": [
              "50"
            ]
          },
          "metadata": {},
          "execution_count": 15
        }
      ]
    },
    {
      "cell_type": "code",
      "metadata": {
        "id": "-leEwngxhnmb"
      },
      "source": [
        "y = 'ok'\n",
        "print(y)"
      ],
      "execution_count": null,
      "outputs": []
    },
    {
      "cell_type": "code",
      "metadata": {
        "colab": {
          "base_uri": "https://localhost:8080/"
        },
        "id": "T5kLFI70mh8s",
        "outputId": "087b4b78-449e-4c4b-bfce-181ffa327b1e"
      },
      "source": [
        "soma = a + b\n",
        "print (soma) "
      ],
      "execution_count": null,
      "outputs": [
        {
          "output_type": "stream",
          "name": "stdout",
          "text": [
            "15\n"
          ]
        }
      ]
    },
    {
      "cell_type": "markdown",
      "metadata": {
        "id": "mQcah7HuiUQ2"
      },
      "source": [
        "Atividade - ver o que acontece:"
      ]
    },
    {
      "cell_type": "code",
      "metadata": {
        "colab": {
          "base_uri": "https://localhost:8080/"
        },
        "id": "iXA233o_iRcv",
        "outputId": "88502211-a032-4f0d-81a9-da15f983efec"
      },
      "source": [
        "z = '10' + '50'   #armazena o dado como um texto\n",
        "print(z)          #o retorno será 1050"
      ],
      "execution_count": null,
      "outputs": [
        {
          "output_type": "stream",
          "name": "stdout",
          "text": [
            "1050\n"
          ]
        }
      ]
    },
    {
      "cell_type": "code",
      "metadata": {
        "colab": {
          "base_uri": "https://localhost:8080/"
        },
        "id": "xwAts_fEioTB",
        "outputId": "4b1e56f0-d89f-455e-e655-4292f1b4077f"
      },
      "source": [
        "10 +++++ 50   #mais de um sinal de adição funciona da mesma maneira"
      ],
      "execution_count": null,
      "outputs": [
        {
          "output_type": "execute_result",
          "data": {
            "text/plain": [
              "60"
            ]
          },
          "metadata": {},
          "execution_count": 22
        }
      ]
    },
    {
      "cell_type": "code",
      "metadata": {
        "colab": {
          "base_uri": "https://localhost:8080/"
        },
        "id": "QbEgRpEeiyHG",
        "outputId": "4effad84-2973-4028-ffb7-1b859a281cb2"
      },
      "source": [
        "10 ** 2   #dois sinais de multiplicacçao transforma a conta em potenciação"
      ],
      "execution_count": null,
      "outputs": [
        {
          "output_type": "execute_result",
          "data": {
            "text/plain": [
              "100"
            ]
          },
          "metadata": {},
          "execution_count": 27
        }
      ]
    },
    {
      "cell_type": "code",
      "metadata": {
        "colab": {
          "base_uri": "https://localhost:8080/",
          "height": 129
        },
        "id": "KOmqh2Y2jE3j",
        "outputId": "4e347811-b65a-48f5-e08b-15c1d66ef8af"
      },
      "source": [
        "10 ********** 10  #não funciona, por erro de syntax"
      ],
      "execution_count": null,
      "outputs": [
        {
          "output_type": "error",
          "ename": "SyntaxError",
          "evalue": "ignored",
          "traceback": [
            "\u001b[0;36m  File \u001b[0;32m\"<ipython-input-25-492493b1c4c9>\"\u001b[0;36m, line \u001b[0;32m1\u001b[0m\n\u001b[0;31m    10 ********** 10\u001b[0m\n\u001b[0m          ^\u001b[0m\n\u001b[0;31mSyntaxError\u001b[0m\u001b[0;31m:\u001b[0m invalid syntax\n"
          ]
        }
      ]
    },
    {
      "cell_type": "markdown",
      "metadata": {
        "id": "XuqBd5WOSaVm"
      },
      "source": [
        "# Trabalhando com String"
      ]
    },
    {
      "cell_type": "code",
      "metadata": {
        "colab": {
          "base_uri": "https://localhost:8080/"
        },
        "id": "wSRYWnYGSqM7",
        "outputId": "fb5500eb-9d0b-4172-bd3b-367232528438"
      },
      "source": [
        "rua = 'Rua do Catete, '\n",
        "numero = '153, '\n",
        "bairro = 'Catete, '\n",
        "cidade = 'Rio de Janeiro, '\n",
        "estado = 'RJ, '\n",
        "cep = '22220-000'\n",
        "print(rua)"
      ],
      "execution_count": null,
      "outputs": [
        {
          "output_type": "stream",
          "name": "stdout",
          "text": [
            "Rua do Catete, \n"
          ]
        }
      ]
    },
    {
      "cell_type": "code",
      "metadata": {
        "colab": {
          "base_uri": "https://localhost:8080/"
        },
        "id": "jdhkafufXfHb",
        "outputId": "453ea8ea-9243-4f9a-fbea-7dc0c5bfe9ef"
      },
      "source": [
        "#concatenando a String\n",
        "endereco = rua + numero + bairro + cidade + estado + cep\n",
        "print(endereco)"
      ],
      "execution_count": null,
      "outputs": [
        {
          "output_type": "stream",
          "name": "stdout",
          "text": [
            "Rua do Catete, 153, Catete, Rio de Janeiro, RJ, 22220-000\n"
          ]
        }
      ]
    },
    {
      "cell_type": "code",
      "metadata": {
        "colab": {
          "base_uri": "https://localhost:8080/"
        },
        "id": "aJG0LlceXh3c",
        "outputId": "2f1b5e7a-416f-4057-90e9-71e7244e42bc"
      },
      "source": [
        "#transformando as letras em maiúsculas\n",
        "endereco_maiuscula = endereco.upper()\n",
        "print(endereco_maiuscula)"
      ],
      "execution_count": null,
      "outputs": [
        {
          "output_type": "stream",
          "name": "stdout",
          "text": [
            "RUA DO CATETE, 153, CATETE, RIO DE JANEIRO, RJ, 22220-000\n"
          ]
        }
      ]
    },
    {
      "cell_type": "code",
      "metadata": {
        "colab": {
          "base_uri": "https://localhost:8080/"
        },
        "id": "DAm7EbITXj75",
        "outputId": "c0f9f5b4-b0c2-4c18-8d7a-2be654dc11a9"
      },
      "source": [
        "#transformando as letras em minúsculas\n",
        "enderco_minuscula = endereco.lower()\n",
        "print(enderco_minuscula)"
      ],
      "execution_count": null,
      "outputs": [
        {
          "output_type": "stream",
          "name": "stdout",
          "text": [
            "rua do catete, 153, catete, rio de janeiro, rj, 22220-000\n"
          ]
        }
      ]
    },
    {
      "cell_type": "markdown",
      "metadata": {
        "id": "D8fiGZZ9X_tU"
      },
      "source": [
        "# Trabalhando com Integer"
      ]
    },
    {
      "cell_type": "code",
      "metadata": {
        "colab": {
          "base_uri": "https://localhost:8080/"
        },
        "id": "gHnPZqSeYGDO",
        "outputId": "3d411de5-c670-429b-f2a6-c30105d2b0a8"
      },
      "source": [
        "x = 50\n",
        "print(x)\n",
        "\n",
        "#declaração de número negativo\n",
        "y = -250\n",
        "print(y)\n",
        "\n",
        "#não faz diferença o sinal de positivo na frente do número\n",
        "a = +50  \n",
        "print(a)\n",
        "\n",
        "#verificando qual é o tipo de uma variável\n",
        "print(type(a))"
      ],
      "execution_count": null,
      "outputs": [
        {
          "output_type": "stream",
          "name": "stdout",
          "text": [
            "50\n",
            "-250\n",
            "50\n",
            "<class 'int'>\n"
          ]
        }
      ]
    },
    {
      "cell_type": "code",
      "metadata": {
        "colab": {
          "base_uri": "https://localhost:8080/"
        },
        "id": "DW_b1NgAb4H6",
        "outputId": "c5a63bc3-f6eb-463a-c10b-24a0585591d0"
      },
      "source": [
        "#declarando o tipo inteiro\n",
        "numero_alunos = int(50)\n",
        "print(numero_alunos)"
      ],
      "execution_count": null,
      "outputs": [
        {
          "output_type": "stream",
          "name": "stdout",
          "text": [
            "50\n"
          ]
        }
      ]
    },
    {
      "cell_type": "code",
      "metadata": {
        "colab": {
          "base_uri": "https://localhost:8080/"
        },
        "id": "uFvGCwQCb7wM",
        "outputId": "4e3f6659-a512-4e5a-bd87-e2e135e12cd7"
      },
      "source": [
        "#divisão de integer + integer = float\n",
        "divisao = 50/2\n",
        "print(divisao)\n",
        "print(type(divisao))\n",
        "\n",
        "#tornando o resultado de uma divisão em integer\n",
        "divisao = int(50/2)\n",
        "print(divisao)\n",
        "print(type(divisao))"
      ],
      "execution_count": null,
      "outputs": [
        {
          "output_type": "stream",
          "name": "stdout",
          "text": [
            "25.0\n",
            "<class 'float'>\n",
            "25\n",
            "<class 'int'>\n"
          ]
        }
      ]
    },
    {
      "cell_type": "code",
      "metadata": {
        "id": "hb-uVn8ocZ8f"
      },
      "source": [
        ""
      ],
      "execution_count": null,
      "outputs": []
    },
    {
      "cell_type": "markdown",
      "metadata": {
        "id": "2O608GXwdIk2"
      },
      "source": [
        "#Trabalhando com Float"
      ]
    },
    {
      "cell_type": "code",
      "metadata": {
        "colab": {
          "base_uri": "https://localhost:8080/"
        },
        "id": "1Uxe4TvWdPTb",
        "outputId": "b1e0e032-326e-4f9b-b6b3-2264f99a8cc5"
      },
      "source": [
        "a = 2.5\n",
        "print(type(a))\n",
        "\n",
        "b = -23.8\n",
        "print(type(b))\n",
        "\n",
        "c = 6,23  #vírgula não funciona para variável do tipo float\n",
        "print(type(c))"
      ],
      "execution_count": null,
      "outputs": [
        {
          "output_type": "stream",
          "name": "stdout",
          "text": [
            "<class 'float'>\n",
            "<class 'float'>\n",
            "<class 'tuple'>\n"
          ]
        }
      ]
    },
    {
      "cell_type": "code",
      "metadata": {
        "colab": {
          "base_uri": "https://localhost:8080/"
        },
        "id": "d5FhL8MdfykP",
        "outputId": "0418ab30-551b-45b6-b0e7-191676a01f4b"
      },
      "source": [
        "#declarando números científicos com um \"e\" para indicar a potência de 10\n",
        "d = 35e3\n",
        "print(type(d))\n",
        "d1 = 35E3 \n",
        "print(type(d1))\n",
        "d2 = -15e4\n",
        "print(type(d2))"
      ],
      "execution_count": null,
      "outputs": [
        {
          "output_type": "stream",
          "name": "stdout",
          "text": [
            "<class 'float'>\n",
            "<class 'float'>\n",
            "<class 'float'>\n"
          ]
        }
      ]
    },
    {
      "cell_type": "code",
      "metadata": {
        "colab": {
          "base_uri": "https://localhost:8080/",
          "height": 129
        },
        "id": "mtfxote-f29u",
        "outputId": "c70a25b0-c3eb-45d6-e2b2-c5304d12e221"
      },
      "source": [
        "#outras letras não funcionam\n",
        "e = 15f3"
      ],
      "execution_count": null,
      "outputs": [
        {
          "output_type": "error",
          "ename": "SyntaxError",
          "evalue": "ignored",
          "traceback": [
            "\u001b[0;36m  File \u001b[0;32m\"<ipython-input-27-7170204a325b>\"\u001b[0;36m, line \u001b[0;32m2\u001b[0m\n\u001b[0;31m    e = 15f3\u001b[0m\n\u001b[0m           ^\u001b[0m\n\u001b[0;31mSyntaxError\u001b[0m\u001b[0;31m:\u001b[0m invalid syntax\n"
          ]
        }
      ]
    },
    {
      "cell_type": "markdown",
      "metadata": {
        "id": "f_o2GL-dqhM-"
      },
      "source": [
        "#Trabalhando com Boolean"
      ]
    },
    {
      "cell_type": "code",
      "metadata": {
        "colab": {
          "base_uri": "https://localhost:8080/"
        },
        "id": "PESsRRv8qner",
        "outputId": "8f0e226f-3934-4838-95da-e1eab943ccbe"
      },
      "source": [
        "5 == 5"
      ],
      "execution_count": null,
      "outputs": [
        {
          "output_type": "execute_result",
          "data": {
            "text/plain": [
              "True"
            ]
          },
          "metadata": {},
          "execution_count": 35
        }
      ]
    },
    {
      "cell_type": "code",
      "metadata": {
        "colab": {
          "base_uri": "https://localhost:8080/"
        },
        "id": "-mRMV5-utOvt",
        "outputId": "65ee60b4-9621-4263-8aa1-f99c3ef4d5da"
      },
      "source": [
        "5 == 4"
      ],
      "execution_count": null,
      "outputs": [
        {
          "output_type": "execute_result",
          "data": {
            "text/plain": [
              "False"
            ]
          },
          "metadata": {},
          "execution_count": 36
        }
      ]
    },
    {
      "cell_type": "code",
      "metadata": {
        "colab": {
          "base_uri": "https://localhost:8080/"
        },
        "id": "bSBkQJN-tuFo",
        "outputId": "01ba1fb4-a521-40e3-e328-efee2e5c08a8"
      },
      "source": [
        "15 > 10"
      ],
      "execution_count": null,
      "outputs": [
        {
          "output_type": "execute_result",
          "data": {
            "text/plain": [
              "True"
            ]
          },
          "metadata": {},
          "execution_count": 37
        }
      ]
    },
    {
      "cell_type": "code",
      "metadata": {
        "colab": {
          "base_uri": "https://localhost:8080/"
        },
        "id": "895-EfVHtxVS",
        "outputId": "c3f3df60-f774-4e7e-f31c-19225269c726"
      },
      "source": [
        "3 > 25"
      ],
      "execution_count": null,
      "outputs": [
        {
          "output_type": "execute_result",
          "data": {
            "text/plain": [
              "False"
            ]
          },
          "metadata": {},
          "execution_count": 38
        }
      ]
    },
    {
      "cell_type": "markdown",
      "metadata": {
        "id": "lRf1sjNpt6OD"
      },
      "source": [
        "Boolean também serve para String"
      ]
    },
    {
      "cell_type": "code",
      "metadata": {
        "colab": {
          "base_uri": "https://localhost:8080/"
        },
        "id": "6o1nfJHlt4g5",
        "outputId": "fc6c23df-13bd-47eb-ba54-32c406e82214"
      },
      "source": [
        "'python' == 'python'"
      ],
      "execution_count": null,
      "outputs": [
        {
          "output_type": "execute_result",
          "data": {
            "text/plain": [
              "True"
            ]
          },
          "metadata": {},
          "execution_count": 39
        }
      ]
    },
    {
      "cell_type": "code",
      "metadata": {
        "colab": {
          "base_uri": "https://localhost:8080/"
        },
        "id": "his8fRXrulr7",
        "outputId": "e6ce2e60-389a-44c0-d24e-00761fc88425"
      },
      "source": [
        "'python' == 'Python'"
      ],
      "execution_count": null,
      "outputs": [
        {
          "output_type": "execute_result",
          "data": {
            "text/plain": [
              "False"
            ]
          },
          "metadata": {},
          "execution_count": 40
        }
      ]
    },
    {
      "cell_type": "code",
      "metadata": {
        "colab": {
          "base_uri": "https://localhost:8080/"
        },
        "id": "b0tJXviWuxu4",
        "outputId": "8cf3122a-cca4-436d-bdc0-74d8fc6995e7"
      },
      "source": [
        "'python' == 'nohtyp'"
      ],
      "execution_count": null,
      "outputs": [
        {
          "output_type": "execute_result",
          "data": {
            "text/plain": [
              "False"
            ]
          },
          "metadata": {},
          "execution_count": 41
        }
      ]
    },
    {
      "cell_type": "code",
      "metadata": {
        "colab": {
          "base_uri": "https://localhost:8080/"
        },
        "id": "Dcdj821buqCS",
        "outputId": "8f0a3702-92d0-48c4-a8c3-512e3d1111a7"
      },
      "source": [
        "'python' > 'java'  #vide sessão 'tabela ASCII' para entender o resultado "
      ],
      "execution_count": null,
      "outputs": [
        {
          "output_type": "execute_result",
          "data": {
            "text/plain": [
              "True"
            ]
          },
          "metadata": {},
          "execution_count": 42
        }
      ]
    },
    {
      "cell_type": "code",
      "metadata": {
        "colab": {
          "base_uri": "https://localhost:8080/"
        },
        "id": "ouoCtYbQuum1",
        "outputId": "b4d596f9-a276-496d-87b2-d0201eda3c5e"
      },
      "source": [
        "'python' == 'java'"
      ],
      "execution_count": null,
      "outputs": [
        {
          "output_type": "execute_result",
          "data": {
            "text/plain": [
              "False"
            ]
          },
          "metadata": {},
          "execution_count": 43
        }
      ]
    },
    {
      "cell_type": "markdown",
      "metadata": {
        "id": "D815QX-JvA5M"
      },
      "source": [
        "### Tabela ASCII\n",
        "Código Padrão Americano para o intercâmbio de informação\n",
        "\n",
        "Código binário que codifica um conjunto de 128 sinais: 95 sinais gráficos"
      ]
    },
    {
      "cell_type": "code",
      "metadata": {
        "colab": {
          "base_uri": "https://localhost:8080/"
        },
        "id": "fIVWvjjbvr6D",
        "outputId": "35f19da7-0887-4c66-9c40-d6a8d66d2f75"
      },
      "source": [
        "'pão' > 'baú'"
      ],
      "execution_count": null,
      "outputs": [
        {
          "output_type": "execute_result",
          "data": {
            "text/plain": [
              "True"
            ]
          },
          "metadata": {},
          "execution_count": 48
        }
      ]
    },
    {
      "cell_type": "code",
      "metadata": {
        "colab": {
          "base_uri": "https://localhost:8080/"
        },
        "id": "70PZ9FmIwek0",
        "outputId": "05f628db-9c80-4f22-da8c-254ccb142197"
      },
      "source": [
        "#entendendo o resultado da célula anterior\n",
        "nome = 'pão'\n",
        "nome_1 = 'baú'\n",
        "\n",
        "print(nome.encode())\n",
        "print(nome_1.encode())\n",
        "\n",
        "'''\n",
        "pão == b'p\\xc3\\xa3o'    é assim que a palavra \"pão\" está armazenada na memória\n",
        "baú == b'ba\\xc3\\xba'    é assim que a palavra \"baú\" está armazenada na memória\n",
        "'''"
      ],
      "execution_count": null,
      "outputs": [
        {
          "output_type": "stream",
          "name": "stdout",
          "text": [
            "b'p\\xc3\\xa3o'\n",
            "b'ba\\xc3\\xba'\n"
          ]
        }
      ]
    },
    {
      "cell_type": "markdown",
      "metadata": {
        "id": "sL4Q9k2vyR4B"
      },
      "source": [
        "# Convertendo Tipos de Dados"
      ]
    },
    {
      "cell_type": "code",
      "metadata": {
        "id": "UbhmfMgayX6G"
      },
      "source": [
        "#Declaração das variáveis\n",
        "num = 500\n",
        "num_str = '200'\n",
        "fl = 23.5\n",
        "bl = 3 > 4\n",
        "\n",
        " # aconselha-se criar variável auxiliar para a converção, para não \"bagunçar\" a variável original. \n"
      ],
      "execution_count": null,
      "outputs": []
    },
    {
      "cell_type": "code",
      "metadata": {
        "colab": {
          "base_uri": "https://localhost:8080/"
        },
        "id": "0q8DoutH4LJA",
        "outputId": "93af8f5d-1702-4cdd-8dc8-62899030f00f"
      },
      "source": [
        "#Conversão de Integer\n",
        "num_x = str(num)  #converte para sting\n",
        "print(type(num_x))\n",
        "print(num_x)\n",
        "\n",
        "num_aux = float(num) #converte para float\n",
        "print(type(num_aux))\n",
        "print(num_aux)\n",
        "\n",
        "num_aux2 = bool(num)  #converte para boolean\n",
        "print(type(num_aux2))\n",
        "print(num_aux2)"
      ],
      "execution_count": null,
      "outputs": [
        {
          "output_type": "stream",
          "name": "stdout",
          "text": [
            "<class 'str'>\n",
            "500\n",
            "<class 'float'>\n",
            "500.0\n",
            "<class 'bool'>\n",
            "True\n"
          ]
        }
      ]
    },
    {
      "cell_type": "code",
      "metadata": {
        "colab": {
          "base_uri": "https://localhost:8080/"
        },
        "id": "QD0qQmrN4zd9",
        "outputId": "6e8e65a1-649f-4eb7-91b6-28fe0c349422"
      },
      "source": [
        "#Conversão de String\n",
        "num_str2 = int(num_str) #converte para integer\n",
        "print(type(num_str1))\n",
        "print(num_str1)\n",
        "\n",
        "num_str2 = float(num_str) #converte para float\n",
        "print(type(num_str2))\n",
        "print(num_str2)\n",
        "\n",
        "num_str3 = bool(num_str) #converte para boolean\n",
        "print(type(num_str3))\n",
        "print(num_str3)"
      ],
      "execution_count": null,
      "outputs": [
        {
          "output_type": "stream",
          "name": "stdout",
          "text": [
            "<class 'int'>\n",
            "200\n",
            "<class 'float'>\n",
            "200.0\n",
            "<class 'bool'>\n",
            "True\n"
          ]
        }
      ]
    },
    {
      "cell_type": "code",
      "metadata": {
        "colab": {
          "base_uri": "https://localhost:8080/"
        },
        "id": "fdA7uWm-1QSk",
        "outputId": "be7ad276-f9a2-4a59-c739-fce5b913df50"
      },
      "source": [
        "#Conversão de Float\n",
        "fl_aux = int(fl)  #converte para integer\n",
        "print(type(fl_aux)) \n",
        "print(fl_aux)\n",
        "\n",
        "fl_aux2 = str(fl) #converte para string\n",
        "print(type(fl_aux2))\n",
        "print(fl_aux2)\n",
        "\n",
        "fl_aux3 = bool(fl)  #converte para boolean\n",
        "print(type(fl_aux3))\n",
        "print(fl_aux3)"
      ],
      "execution_count": null,
      "outputs": [
        {
          "output_type": "stream",
          "name": "stdout",
          "text": [
            "<class 'int'>\n",
            "23\n",
            "<class 'str'>\n",
            "23.5\n",
            "<class 'bool'>\n",
            "True\n"
          ]
        }
      ]
    },
    {
      "cell_type": "code",
      "metadata": {
        "colab": {
          "base_uri": "https://localhost:8080/"
        },
        "id": "rVVBFlmB2ezq",
        "outputId": "3afa71af-ae14-4427-ba94-e29dafcf02bc"
      },
      "source": [
        "#Conversão de Boolean\n",
        "bl_aux = str(bl)  #converte para string\n",
        "print(type(bl_aux))\n",
        "print(bl_aux)\n",
        "\n",
        "bl_aux2 = int(bl) #converte para integer\n",
        "print(type(bl_aux2))\n",
        "print(bl_aux2)\n",
        "\n",
        "bl_aux3 = float(bl) #converte para float\n",
        "print(type(bl_aux3))\n",
        "print(bl_aux3)"
      ],
      "execution_count": null,
      "outputs": [
        {
          "output_type": "stream",
          "name": "stdout",
          "text": [
            "<class 'str'>\n",
            "False\n",
            "<class 'int'>\n",
            "0\n",
            "<class 'float'>\n",
            "0.0\n"
          ]
        }
      ]
    },
    {
      "cell_type": "code",
      "metadata": {
        "id": "y5lZ2oVUU1T1"
      },
      "source": [
        ""
      ],
      "execution_count": null,
      "outputs": []
    }
  ]
}